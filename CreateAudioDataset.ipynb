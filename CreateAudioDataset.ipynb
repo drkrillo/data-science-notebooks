{
  "nbformat": 4,
  "nbformat_minor": 0,
  "metadata": {
    "colab": {
      "provenance": []
    },
    "kernelspec": {
      "name": "python3",
      "display_name": "Python 3"
    },
    "language_info": {
      "name": "python"
    }
  },
  "cells": [
    {
      "cell_type": "markdown",
      "source": [
        "# Create Audio Dataset\n",
        "\n",
        "In thhis notebook we are going to download, chop annd translate audios from a Youtube video.\n",
        "\n",
        "Functions can be easily used for just a part of the process, for example, to chopand translate audios from a Wav file, or to ddownload audios  from YouTube video.\n",
        "\n",
        "If runninng in Colab, pytube must be downloaded into your gdrive and installed from there, otherwise some bugs arose."
      ],
      "metadata": {
        "id": "OJUfJi_XfwNa"
      }
    },
    {
      "cell_type": "code",
      "source": [
        "from google.colab import drive\n",
        "drive.mount('/content/drive/')"
      ],
      "metadata": {
        "id": "_LIWPm341a_Q"
      },
      "execution_count": null,
      "outputs": []
    },
    {
      "cell_type": "code",
      "source": [
        "# Move to where pytube is located\n",
        "cd drive/MyDrive/pytube/"
      ],
      "metadata": {
        "id": "MUUARAv21g2r"
      },
      "execution_count": null,
      "outputs": []
    },
    {
      "cell_type": "code",
      "source": [
        "!pip install -e ."
      ],
      "metadata": {
        "id": "e6J9bp-A1UNh"
      },
      "execution_count": null,
      "outputs": []
    },
    {
      "cell_type": "code",
      "source": [
        "!pip install pydub\n",
        "!pip install ffmpeg\n",
        "!pip install git+https://github.com/openai/whisper.git"
      ],
      "metadata": {
        "id": "0hj68QfaVH-h"
      },
      "execution_count": null,
      "outputs": []
    },
    {
      "cell_type": "code",
      "source": [
        "import os\n",
        "import time\n",
        "import json\n",
        "\n",
        "import whisper\n",
        "\n",
        "import pydub\n",
        "from pydub import AudioSegment\n",
        "from pydub.silence import split_on_silence\n",
        "\n",
        "from pytube import YouTube"
      ],
      "metadata": {
        "id": "VTir3WKnULZh"
      },
      "execution_count": null,
      "outputs": []
    },
    {
      "cell_type": "code",
      "source": [
        "MODEL_SIZE = 'large'"
      ],
      "metadata": {
        "id": "WlsnqErrVjjQ"
      },
      "execution_count": null,
      "outputs": []
    },
    {
      "cell_type": "code",
      "execution_count": null,
      "metadata": {
        "id": "pWFN9j1BRTNW"
      },
      "outputs": [],
      "source": [
        "def download_from_youtube(\n",
        "    url: str=URL,\n",
        "    output_path: str='.',\n",
        "):\n",
        "  yt = YouTube(url)\n",
        "  print(yt.title)\n",
        "  # extract only audio\n",
        "  audio = yt.streams.filter(only_audio=True).first()\n",
        "  print(audio)\n",
        "  # download the file\n",
        "  out_file = audio.download(output_path=output_path)\n",
        "\n",
        "  # save the file\n",
        "  base, ext = os.path.splitext(out_file)\n",
        "  new_file = base + '.mp3'\n",
        "  os.rename(out_file, new_file)\n",
        "\n",
        "  # result of success\n",
        "  print(yt.title + \" has been successfully downloaded.\")"
      ]
    },
    {
      "cell_type": "code",
      "source": [
        "download_from_youtube(URL)"
      ],
      "metadata": {
        "id": "Slq1k1R8WJXS"
      },
      "execution_count": null,
      "outputs": []
    },
    {
      "cell_type": "code",
      "source": [
        "def load_to_wav(\n",
        "    audio_path: str,\n",
        "):\n",
        "\tif audio_path.endswith('.mp3'):\n",
        "\t\taudio = AudioSegment.from_file(\n",
        "      audio_path,\n",
        "      format='mp4'\n",
        "    )\n",
        "\telif audio_path.endswith('.wav'):\n",
        "\t\taudio = AudioSegment.from_file(\n",
        "      audio_path,\n",
        "      format='.wav',\n",
        "    )\n",
        "\n",
        "\taudio = audio.set_channels(1)\n",
        "\taudio = audio.set_frame_rate(22050)\n",
        "\taudio.export(\n",
        "      audio_path.split('.')[0] +'.wav',\n",
        "      format = \"wav\"\n",
        "  )"
      ],
      "metadata": {
        "id": "6ySMjfGPaePq"
      },
      "execution_count": null,
      "outputs": []
    },
    {
      "cell_type": "code",
      "source": [
        "load_to_wav('<PATH TO YOUR MP3 HERE>')"
      ],
      "metadata": {
        "id": "2lsefe7Gbujy"
      },
      "execution_count": null,
      "outputs": []
    },
    {
      "cell_type": "code",
      "source": [
        "def match_target_amplitude(\n",
        "    chunk,\n",
        "    target_dBFS: float=-22.0,\n",
        "):\n",
        "    \"\"\"\n",
        "    Takes an audio as an input and, given a  certain dB threshold will regain\n",
        "    the audio.\n",
        "    Returnns the regained audio.\n",
        "    \"\"\"\n",
        "    change_in_dBFS = target_dBFS - chunk.dBFS\n",
        "\n",
        "    return chunk.apply_gain(change_in_dBFS)\n",
        "\n",
        "\n",
        "def split(\n",
        "    audio_path: str,\n",
        "    audios_directory: str,\n",
        "    min_seconds: int=2,\n",
        "    max_seconds: int=10,\n",
        "    min_silence_length: int=200,\n",
        "    silence_threshold: int= -40,\n",
        "):\n",
        "    \"\"\"\n",
        "    The function takes an audio, a destination(audios_directory) and min/max\n",
        "    length, silence and silence threshold to chop it into smaller audios that\n",
        "    match therequirements.\n",
        "\n",
        "    It saves the chopped audios into the destination folder  with names  e.g.\n",
        "    wav1.wav-wav100.wav\n",
        "    \"\"\"\n",
        "    audio = AudioSegment.from_file(audio_path, format='wav')\n",
        "    audio =  pydub.effects.normalize(audio)\n",
        "\n",
        "    chunks = split_on_silence (\n",
        "        audio,\n",
        "        min_silence_len = min_silence_length,\n",
        "        silence_thresh = silence_threshold,\n",
        "    )\n",
        "\n",
        "    for i, chunk in enumerate(chunks):\n",
        "      # Descartamos archivos muy largos o muy cortos\n",
        "      if min_seconds*1000 < len(chunk) < max_seconds*1000:\n",
        "        chunk = match_target_amplitude(chunk)\n",
        "        chunk.export(f\"{audios_directory}/wav{str(i)}.wav\", format = \"wav\")"
      ],
      "metadata": {
        "id": "8jja1E5heGSa"
      },
      "execution_count": null,
      "outputs": []
    },
    {
      "cell_type": "code",
      "source": [
        "mkdir wavs"
      ],
      "metadata": {
        "id": "YKOmevevp9tZ"
      },
      "execution_count": null,
      "outputs": []
    },
    {
      "cell_type": "code",
      "source": [
        "split(\n",
        "    audio_path=\"<PATH TO YOUR NNEWLY CREATED WAV FILE HERE>\",\n",
        "    audios_directory=\"wavs\",\n",
        ")"
      ],
      "metadata": {
        "id": "tM4KZkcQqRSu"
      },
      "execution_count": null,
      "outputs": []
    },
    {
      "cell_type": "code",
      "source": [
        "cd wavs"
      ],
      "metadata": {
        "id": "7Ig0Rz23rQfO"
      },
      "execution_count": null,
      "outputs": []
    },
    {
      "cell_type": "code",
      "source": [
        "ls"
      ],
      "metadata": {
        "colab": {
          "base_uri": "https://localhost:8080/"
        },
        "id": "xVWYtxxbrRA4",
        "outputId": "6c824651-60b1-4390-d5fd-011b2ea45c6a"
      },
      "execution_count": null,
      "outputs": [
        {
          "output_type": "stream",
          "name": "stdout",
          "text": [
            "wav11.wav  wav22.wav  wav29.wav  wav37.wav  wav46.wav  wav5.wav\n",
            "wav12.wav  wav24.wav  wav33.wav  wav38.wav  wav49.wav  wav8.wav\n",
            "wav18.wav  wav25.wav  wav35.wav  wav3.wav   wav52.wav\n",
            "wav20.wav  wav28.wav  wav36.wav  wav41.wav  wav56.wav\n"
          ]
        }
      ]
    },
    {
      "cell_type": "code",
      "source": [],
      "metadata": {
        "id": "FLDJDODPhhxH"
      },
      "execution_count": null,
      "outputs": []
    },
    {
      "cell_type": "code",
      "source": [
        "def dict_to_list(dict):\n",
        "  lines_list=[]\n",
        "  for key, value in dict.items():\n",
        "    text_line=key + \"|\" + value\n",
        "    lines_list.append(text_line)\n",
        "  return lines_list\n",
        "\n",
        "def whisper_speech_to_text(\n",
        "    audios_directory: str='wavs',\n",
        "    model_size: str=MODEL_SIZE,\n",
        "):\n",
        "  \"\"\"\n",
        "  Reads every wav in  audios_directory and creates a transcript.csv with  each\n",
        "  audio filename and it's transcription.\n",
        "  \"\"\"\n",
        "  model = whisper.load_model(model_size)\n",
        "\n",
        "  filenames = os.listdir(audios_directory)\n",
        "  total_files = len(filenames)\n",
        "  audios_transcript={}\n",
        "\n",
        "  for i, filename in enumerate(filenames):\n",
        "\n",
        "    audio=os.path.join(audios_directory, filename)\n",
        "    text = model.transcribe(audio)['text']\n",
        "\n",
        "    if text is not None and len(text) > 0:\n",
        "      audios_transcript[filename.split('.')[0]]=text\n",
        "    print(f\"Chunk {i} of {total_files} done.\")\n",
        "    print(f\"Transcript: {text}\")\n",
        "\n",
        "  lines_list = dict_to_list(audios_transcript)\n",
        "\n",
        "  audios_transcript_file=\"\\n\".join(lines_list)\n",
        "\n",
        "  # (Para eso yo primero cree a mano un archivo vacio llamado \"transcript.csv\")\n",
        "  with open('transcript.txt', 'w', encoding=\"utf-8\") as file:\n",
        "      file.write(audios_transcript_file)"
      ],
      "metadata": {
        "id": "RGERBRC7rU5M"
      },
      "execution_count": null,
      "outputs": []
    },
    {
      "cell_type": "code",
      "source": [
        "whisper_speech_to_text(audios_directory='wavs')"
      ],
      "metadata": {
        "id": "h-m6AwbP2X1y"
      },
      "execution_count": null,
      "outputs": []
    }
  ]
}